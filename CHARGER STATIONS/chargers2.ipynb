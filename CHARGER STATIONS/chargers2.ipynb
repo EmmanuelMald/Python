{
 "cells": [
  {
   "cell_type": "code",
   "execution_count": 142,
   "metadata": {},
   "outputs": [],
   "source": [
    "import pandas as pd\n",
    "import numpy as np\n",
    "import seaborn as sns\n",
    "import matplotlib.pyplot as plt"
   ]
  },
  {
   "cell_type": "code",
   "execution_count": 143,
   "metadata": {},
   "outputs": [
    {
     "data": {
      "text/html": [
       "<div>\n",
       "<style scoped>\n",
       "    .dataframe tbody tr th:only-of-type {\n",
       "        vertical-align: middle;\n",
       "    }\n",
       "\n",
       "    .dataframe tbody tr th {\n",
       "        vertical-align: top;\n",
       "    }\n",
       "\n",
       "    .dataframe thead th {\n",
       "        text-align: right;\n",
       "    }\n",
       "</style>\n",
       "<table border=\"1\" class=\"dataframe\">\n",
       "  <thead>\n",
       "    <tr style=\"text-align: right;\">\n",
       "      <th></th>\n",
       "      <th>Direccion</th>\n",
       "      <th>CP</th>\n",
       "      <th>Tipo</th>\n",
       "      <th>Nombre_App</th>\n",
       "      <th>Alcaldia</th>\n",
       "      <th>Tipo_conector</th>\n",
       "      <th>Potencia_kW</th>\n",
       "      <th>Marca</th>\n",
       "    </tr>\n",
       "  </thead>\n",
       "  <tbody>\n",
       "    <tr>\n",
       "      <th>0</th>\n",
       "      <td>115 Avenida Paseo del Río 04360</td>\n",
       "      <td>4360.0</td>\n",
       "      <td>Centro Comercial</td>\n",
       "      <td>Walmart Miguel Angel de Quevedo</td>\n",
       "      <td>Álvaro Obregón</td>\n",
       "      <td>TYPE 1 (SAE J1772)</td>\n",
       "      <td>3.7</td>\n",
       "      <td>Walmart</td>\n",
       "    </tr>\n",
       "    <tr>\n",
       "      <th>1</th>\n",
       "      <td>227 Avenida Miguel Ángel de Quevedo 04360</td>\n",
       "      <td>4360.0</td>\n",
       "      <td>Centro Comercial</td>\n",
       "      <td>Oasis Coyoacan</td>\n",
       "      <td>Coyoacán</td>\n",
       "      <td>TYPE 1 (SAE J1772)</td>\n",
       "      <td>3.7</td>\n",
       "      <td>NaN</td>\n",
       "    </tr>\n",
       "    <tr>\n",
       "      <th>2</th>\n",
       "      <td>227 Avenida Miguel Ángel de Quevedo 04360</td>\n",
       "      <td>4360.0</td>\n",
       "      <td>Centro Comercial</td>\n",
       "      <td>Oasis Coyoacan</td>\n",
       "      <td>Coyoacán</td>\n",
       "      <td>TYPE 1 (SAE J1772)</td>\n",
       "      <td>3.7</td>\n",
       "      <td>NaN</td>\n",
       "    </tr>\n",
       "    <tr>\n",
       "      <th>3</th>\n",
       "      <td>85 Vito Alessio Robles 01030</td>\n",
       "      <td>1030.0</td>\n",
       "      <td>Estacionamiento</td>\n",
       "      <td>Centro Escolar Cedros</td>\n",
       "      <td>Álvaro Obregón</td>\n",
       "      <td>TYPE 1 (SAE J1772)</td>\n",
       "      <td>3.7</td>\n",
       "      <td>NaN</td>\n",
       "    </tr>\n",
       "    <tr>\n",
       "      <th>4</th>\n",
       "      <td>85 Vito Alessio Robles 01030</td>\n",
       "      <td>1030.0</td>\n",
       "      <td>Estacionamiento</td>\n",
       "      <td>Centro Escolar Cedros</td>\n",
       "      <td>Álvaro Obregón</td>\n",
       "      <td>TYPE 1 (SAE J1772)</td>\n",
       "      <td>3.7</td>\n",
       "      <td>NaN</td>\n",
       "    </tr>\n",
       "  </tbody>\n",
       "</table>\n",
       "</div>"
      ],
      "text/plain": [
       "                                   Direccion      CP              Tipo  \\\n",
       "0            115 Avenida Paseo del Río 04360  4360.0  Centro Comercial   \n",
       "1  227 Avenida Miguel Ángel de Quevedo 04360  4360.0  Centro Comercial   \n",
       "2  227 Avenida Miguel Ángel de Quevedo 04360  4360.0  Centro Comercial   \n",
       "3               85 Vito Alessio Robles 01030  1030.0   Estacionamiento   \n",
       "4               85 Vito Alessio Robles 01030  1030.0   Estacionamiento   \n",
       "\n",
       "                        Nombre_App        Alcaldia       Tipo_conector  \\\n",
       "0  Walmart Miguel Angel de Quevedo  Álvaro Obregón  TYPE 1 (SAE J1772)   \n",
       "1                   Oasis Coyoacan        Coyoacán  TYPE 1 (SAE J1772)   \n",
       "2                   Oasis Coyoacan        Coyoacán  TYPE 1 (SAE J1772)   \n",
       "3            Centro Escolar Cedros  Álvaro Obregón  TYPE 1 (SAE J1772)   \n",
       "4            Centro Escolar Cedros  Álvaro Obregón  TYPE 1 (SAE J1772)   \n",
       "\n",
       "   Potencia_kW    Marca  \n",
       "0          3.7  Walmart  \n",
       "1          3.7      NaN  \n",
       "2          3.7      NaN  \n",
       "3          3.7      NaN  \n",
       "4          3.7      NaN  "
      ]
     },
     "execution_count": 143,
     "metadata": {},
     "output_type": "execute_result"
    }
   ],
   "source": [
    "cargadores=pd.read_excel(r\"C:\\Users\\Emmanuel\\OneDrive - Instituto Politecnico Nacional\\GITHUB\\charger-stations-data-cleaned\\CHARGER STATIONS\\cargadores_electromaps.xlsx\")\n",
    "cargadores.head()"
   ]
  },
  {
   "attachments": {},
   "cell_type": "markdown",
   "metadata": {},
   "source": [
    "## Limpieza de datos"
   ]
  },
  {
   "cell_type": "code",
   "execution_count": 144,
   "metadata": {},
   "outputs": [
    {
     "name": "stdout",
     "output_type": "stream",
     "text": [
      "<class 'pandas.core.frame.DataFrame'>\n",
      "RangeIndex: 162 entries, 0 to 161\n",
      "Data columns (total 8 columns):\n",
      " #   Column         Non-Null Count  Dtype  \n",
      "---  ------         --------------  -----  \n",
      " 0   Direccion      161 non-null    object \n",
      " 1   CP             158 non-null    float64\n",
      " 2   Tipo           160 non-null    object \n",
      " 3   Nombre_App     162 non-null    object \n",
      " 4   Alcaldia       162 non-null    object \n",
      " 5   Tipo_conector  162 non-null    object \n",
      " 6   Potencia_kW    138 non-null    float64\n",
      " 7   Marca          46 non-null     object \n",
      "dtypes: float64(2), object(6)\n",
      "memory usage: 10.3+ KB\n"
     ]
    }
   ],
   "source": [
    "cargadores.info()"
   ]
  },
  {
   "attachments": {},
   "cell_type": "markdown",
   "metadata": {},
   "source": [
    "## Sustitución de valores nulos\n",
    "Arreglando los valores nulos de las columnas que tienen strings y el CP, ya que como no se conoce, se colocará un cero"
   ]
  },
  {
   "cell_type": "code",
   "execution_count": 145,
   "metadata": {},
   "outputs": [
    {
     "name": "stdout",
     "output_type": "stream",
     "text": [
      "<class 'pandas.core.frame.DataFrame'>\n",
      "RangeIndex: 162 entries, 0 to 161\n",
      "Data columns (total 8 columns):\n",
      " #   Column         Non-Null Count  Dtype  \n",
      "---  ------         --------------  -----  \n",
      " 0   Direccion      162 non-null    object \n",
      " 1   CP             162 non-null    int64  \n",
      " 2   Tipo           162 non-null    object \n",
      " 3   Nombre_App     162 non-null    object \n",
      " 4   Alcaldia       162 non-null    object \n",
      " 5   Tipo_conector  162 non-null    object \n",
      " 6   Potencia_kW    138 non-null    float64\n",
      " 7   Marca          162 non-null    object \n",
      "dtypes: float64(1), int64(1), object(6)\n",
      "memory usage: 10.3+ KB\n"
     ]
    }
   ],
   "source": [
    "cargadores[[\"Tipo\",\"Marca\",\"Direccion\"]]=cargadores[[\"Tipo\",\"Marca\",\"Direccion\"]].fillna(\"Desconocido\")\n",
    "cargadores.CP.fillna(0,inplace=True)\n",
    "cargadores.CP=cargadores.CP.astype(\"int64\")\n",
    "cargadores.info()"
   ]
  },
  {
   "attachments": {},
   "cell_type": "markdown",
   "metadata": {},
   "source": [
    "Para la potencia es más complicado, ya que no se puede poner una potencia de 0 kW, por lo que se procederá a revisar qué tipo de conector es, y se usará la potencia que mayormente sea instalada para ese tipo de conector"
   ]
  },
  {
   "cell_type": "code",
   "execution_count": 146,
   "metadata": {},
   "outputs": [
    {
     "data": {
      "text/plain": [
       "TYPE 1 (SAE J1772)          66\n",
       "Tesla Dest.Charger          43\n",
       "Tesla Supercharger          10\n",
       "TYPE 2                       9\n",
       "CCS2                         8\n",
       "NEMA 5-15 (US Plug)          6\n",
       "CHAdeMO                      5\n",
       "NEMA 14-50                   4\n",
       "CCS1                         3\n",
       "\\nTYPE 1 (SAE J1772)         2\n",
       "NEMA 5-20 (US Plug)          2\n",
       " TYPE 1 (SAE J1772)          1\n",
       "Type J (CH, LI, RW Plug)     1\n",
       " CHAdeMO                     1\n",
       "TYPE 1 (SAE J1772)           1\n",
       "Name: Tipo_conector, dtype: int64"
      ]
     },
     "execution_count": 146,
     "metadata": {},
     "output_type": "execute_result"
    }
   ],
   "source": [
    "cargadores.Tipo_conector.value_counts()"
   ]
  },
  {
   "attachments": {},
   "cell_type": "markdown",
   "metadata": {},
   "source": [
    "Se observa que se tiene faltas de ortografía y espacios en los extremos, se procede a arreglarlo"
   ]
  },
  {
   "cell_type": "code",
   "execution_count": 147,
   "metadata": {},
   "outputs": [
    {
     "data": {
      "text/plain": [
       "TYPE 1 (SAE J1772)          68\n",
       "Tesla Dest.Charger          43\n",
       "Tesla Supercharger          10\n",
       "TYPE 2                       9\n",
       "CCS2                         8\n",
       "NEMA 5-15 (US Plug)          6\n",
       "CHAdeMO                      5\n",
       "NEMA 14-50                   4\n",
       "CCS1                         3\n",
       "NEMA 5-20 (US Plug)          2\n",
       " TYPE 1 (SAE J1772)          1\n",
       "Type J (CH, LI, RW Plug)     1\n",
       " CHAdeMO                     1\n",
       "TYPE 1 (SAE J1772)           1\n",
       "Name: Tipo_conector, dtype: int64"
      ]
     },
     "execution_count": 147,
     "metadata": {},
     "output_type": "execute_result"
    }
   ],
   "source": [
    "cargadores.Tipo_conector.replace(\"\\nTYPE 1 (SAE J1772)\",\"TYPE 1 (SAE J1772)\",inplace=True)\n",
    "cargadores.Tipo_conector.value_counts()"
   ]
  },
  {
   "attachments": {},
   "cell_type": "markdown",
   "metadata": {},
   "source": [
    "Debido a que los espacios en los extremos es posible que se encuentren en todas las columnas con cadenas, se procede a quitarle esos espacios a todas las columnas"
   ]
  },
  {
   "cell_type": "code",
   "execution_count": 148,
   "metadata": {},
   "outputs": [],
   "source": [
    "cargadores.Tipo_conector=cargadores.Tipo_conector.str.strip()\n",
    "cargadores.Direccion=cargadores.Direccion.str.strip()\n",
    "cargadores.Tipo=cargadores.Tipo.str.strip()\n",
    "cargadores.Nombre_App=cargadores.Nombre_App.str.strip()\n",
    "cargadores.Marca=cargadores.Marca.str.strip()\n",
    "cargadores.Alcaldia=cargadores.Alcaldia.str.strip()"
   ]
  },
  {
   "attachments": {},
   "cell_type": "markdown",
   "metadata": {},
   "source": [
    "Se procede a revisar la moda en la potencia para cada tipo de conector"
   ]
  },
  {
   "cell_type": "code",
   "execution_count": 149,
   "metadata": {},
   "outputs": [
    {
     "data": {
      "text/plain": [
       "0"
      ]
     },
     "execution_count": 149,
     "metadata": {},
     "output_type": "execute_result"
    }
   ],
   "source": [
    "len(cargadores[cargadores.Tipo_conector == \"NEMA 5-20 (US Plug)\"].Potencia_kW.value_counts())"
   ]
  },
  {
   "cell_type": "code",
   "execution_count": 150,
   "metadata": {},
   "outputs": [],
   "source": [
    "cargadores.loc[((pd.isnull(cargadores.Potencia_kW)==True)  & (cargadores.Tipo_conector == \"NEMA 5-20 (US Plug)\")) ,\"Potencia_kW\"] = 0"
   ]
  },
  {
   "cell_type": "code",
   "execution_count": 151,
   "metadata": {},
   "outputs": [
    {
     "name": "stdout",
     "output_type": "stream",
     "text": [
      "Conector: TYPE 1 (SAE J1772), moda de potencia: 6.0 kW\n",
      "Conector: CCS2, moda de potencia: 50.0 kW\n",
      "Conector: TYPE 2, moda de potencia: 22.0 kW\n",
      "Conector: CCS1, moda de potencia: 50.0 kW\n",
      "Conector: Tesla Dest.Charger, moda de potencia: 11.0 kW\n",
      "Conector: Type J (CH, LI, RW Plug), moda de potencia: 7.4 kW\n",
      "Conector: NEMA 5-20 (US Plug), moda de potencia: 0.0 kW\n",
      "Conector: NEMA 5-15 (US Plug), moda de potencia: 2.0 kW\n",
      "Conector: CHAdeMO, moda de potencia: 22.0 kW\n",
      "Conector: NEMA 14-50, moda de potencia: 7.0 kW\n",
      "Conector: Tesla Supercharger, moda de potencia: 120.0 kW\n"
     ]
    }
   ],
   "source": [
    "for conector in pd.unique(cargadores.Tipo_conector).tolist():\n",
    "    if len(cargadores[cargadores.Tipo_conector == conector].Potencia_kW.value_counts()) == 0:\n",
    "        print(f\"El conector {conector} no tiene potencia de referencia, por lo tanto, se ajustará su valor a 0\")\n",
    "        cargadores.loc[((pd.isnull(cargadores.Potencia_kW)==True)  & (cargadores.Tipo_conector == conector)),\"Potencia_kW\"] = 0\n",
    "    else:\n",
    "        moda_conector=float(cargadores.query(\"Tipo_conector == @conector\").Potencia_kW.value_counts().index[0])\n",
    "        print(f\"Conector: {conector}, moda de potencia: {moda_conector} kW\")\n",
    "        cargadores.loc[((pd.isnull(cargadores.Potencia_kW)==True)  & (cargadores.Tipo_conector == conector)),\"Potencia_kW\"] = moda_conector\n",
    "            "
   ]
  },
  {
   "cell_type": "code",
   "execution_count": 152,
   "metadata": {},
   "outputs": [
    {
     "name": "stdout",
     "output_type": "stream",
     "text": [
      "<class 'pandas.core.frame.DataFrame'>\n",
      "RangeIndex: 162 entries, 0 to 161\n",
      "Data columns (total 8 columns):\n",
      " #   Column         Non-Null Count  Dtype  \n",
      "---  ------         --------------  -----  \n",
      " 0   Direccion      162 non-null    object \n",
      " 1   CP             162 non-null    int64  \n",
      " 2   Tipo           162 non-null    object \n",
      " 3   Nombre_App     162 non-null    object \n",
      " 4   Alcaldia       162 non-null    object \n",
      " 5   Tipo_conector  162 non-null    object \n",
      " 6   Potencia_kW    162 non-null    float64\n",
      " 7   Marca          162 non-null    object \n",
      "dtypes: float64(1), int64(1), object(6)\n",
      "memory usage: 10.3+ KB\n"
     ]
    }
   ],
   "source": [
    "cargadores.info()"
   ]
  },
  {
   "cell_type": "code",
   "execution_count": 153,
   "metadata": {},
   "outputs": [
    {
     "name": "stdout",
     "output_type": "stream",
     "text": [
      "<class 'pandas.core.frame.DataFrame'>\n",
      "RangeIndex: 162 entries, 0 to 161\n",
      "Data columns (total 8 columns):\n",
      " #   Column         Non-Null Count  Dtype  \n",
      "---  ------         --------------  -----  \n",
      " 0   Direccion      162 non-null    object \n",
      " 1   CP             162 non-null    int64  \n",
      " 2   Tipo           162 non-null    object \n",
      " 3   Nombre_App     162 non-null    object \n",
      " 4   Alcaldia       162 non-null    object \n",
      " 5   Tipo_conector  162 non-null    object \n",
      " 6   Potencia_kW    162 non-null    float64\n",
      " 7   Marca          162 non-null    object \n",
      "dtypes: float64(1), int64(1), object(6)\n",
      "memory usage: 10.3+ KB\n"
     ]
    }
   ],
   "source": [
    "cargadores.info()"
   ]
  },
  {
   "cell_type": "code",
   "execution_count": null,
   "metadata": {},
   "outputs": [],
   "source": []
  }
 ],
 "metadata": {
  "kernelspec": {
   "display_name": "Python 3",
   "language": "python",
   "name": "python3"
  },
  "language_info": {
   "codemirror_mode": {
    "name": "ipython",
    "version": 3
   },
   "file_extension": ".py",
   "mimetype": "text/x-python",
   "name": "python",
   "nbconvert_exporter": "python",
   "pygments_lexer": "ipython3",
   "version": "3.11.2"
  },
  "orig_nbformat": 4
 },
 "nbformat": 4,
 "nbformat_minor": 2
}
